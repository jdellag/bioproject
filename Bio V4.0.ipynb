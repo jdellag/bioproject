{
 "cells": [
  {
   "cell_type": "code",
   "execution_count": 1,
   "id": "b2850a6e",
   "metadata": {},
   "outputs": [
    {
     "name": "stderr",
     "output_type": "stream",
     "text": [
      "2023-04-15 22:36:52.039331: I tensorflow/core/platform/cpu_feature_guard.cc:193] This TensorFlow binary is optimized with oneAPI Deep Neural Network Library (oneDNN) to use the following CPU instructions in performance-critical operations:  AVX2 FMA\n",
      "To enable them in other operations, rebuild TensorFlow with the appropriate compiler flags.\n"
     ]
    }
   ],
   "source": [
    "import os\n",
    "import random\n",
    "import sys\n",
    "import cv2\n",
    "import imageio.v2 as imageio\n",
    "import keras\n",
    "import matplotlib.pyplot as plt\n",
    "import numpy as np\n",
    "import pandas as pd\n",
    "import tensorflow as tf\n",
    "from PIL import Image\n",
    "from keras.callbacks import EarlyStopping, LearningRateScheduler, ModelCheckpoint\n",
    "from keras.layers import BatchNormalization, Conv2D, Dense, Dropout, Flatten, MaxPooling2D\n",
    "from keras.models import Sequential\n",
    "from keras.optimizers import Adadelta, Adam\n",
    "from keras_preprocessing import image\n",
    "from sklearn.model_selection import train_test_split\n",
    "from sklearn.preprocessing import StandardScaler\n",
    "from tensorflow.keras.callbacks import ReduceLROnPlateau\n",
    "from tensorflow.keras.applications import ResNet50, MobileNetV2\n",
    "from tqdm import tqdm\n",
    "from keras.initializers import GlorotNormal\n",
    "from tensorflow.keras.layers import Input, Conv2D, MaxPooling2D, Dense, Flatten, Concatenate\n",
    "from tensorflow.keras.models import Model\n",
    "from pathlib import Path"
   ]
  },
  {
   "cell_type": "code",
   "execution_count": 8,
   "id": "336c3828",
   "metadata": {},
   "outputs": [],
   "source": [
    "# Set a random seed for reproducibility\n",
    "random.seed(42)\n",
    "\n",
    "# Set the path to the InterdisciplinaryDataAnalysisClass_FinalDataSet folder on your local machine\n",
    "data_folder_path = '/Users/jay/InterdisciplinaryDataAnalysisClass_FinalDataSet'\n",
    "\n",
    "# Construct the file path for the metadata file\n",
    "data_folder = Path(data_folder_path)\n",
    "metadata_file_path = data_folder / 'sampleMetadata_concatenated.txt'\n",
    "\n",
    "# Read the metadata file as a pandas DataFrame and define folder_names for image folders\n",
    "metaData = pd.read_csv(metadata_file_path, sep='\\t', dtype={'Timestamp': str})\n",
    "folder_names = ['Local', 'Overview', 'Window', 'Pixel']\n",
    "\n",
    "# Create a dictionary to store image arrays for 'Local', 'Overview', and 'Window' folders\n",
    "image_arrays = {folder_name.lower() + '_images': [] for folder_name in ['Local', 'Overview', 'Window']}\n",
    "\n",
    "# Initialize a StandardScaler object for normalizing the images before training\n",
    "scaler = StandardScaler()"
   ]
  },
  {
   "cell_type": "code",
   "execution_count": 9,
   "id": "964e5b9a",
   "metadata": {},
   "outputs": [
    {
     "name": "stderr",
     "output_type": "stream",
     "text": [
      "100%|████████████████████████████████████| 48000/48000 [05:35<00:00, 143.13it/s]\n"
     ]
    }
   ],
   "source": [
    "# Randomly select a specified number of samples from the metadata\n",
    "num_samples = 48000\n",
    "indices = random.sample(range(metaData.shape[0]), num_samples)\n",
    "\n",
    "# Create a new DataFrame with only the selected entries\n",
    "metaData_sample = metaData.iloc[indices].reset_index(drop=True)\n",
    "\n",
    "# Add new columns to store the extracted RGB values\n",
    "metaData_sample['R'] = 0\n",
    "metaData_sample['G'] = 0\n",
    "metaData_sample['B'] = 0\n",
    "\n",
    "# Loop through the selected indices and process the images\n",
    "for i in tqdm(indices):\n",
    "    # Loop through the folder names (Local, Overview, Window, Pixel)\n",
    "    for folder_name in folder_names:\n",
    "        # Construct the image file path using the data folder path, folder name, sample number, and timestamp\n",
    "        img_path = f'{data_folder_path}/{folder_name}/{folder_name.lower()}.{metaData[\"Sample Number\"][i]}.{metaData[\"Timestamp\"][i]}.png'\n",
    "        \n",
    "        # Check if the image file exists\n",
    "        if os.path.exists(img_path):\n",
    "            # Read the image using OpenCV and convert from BGR to RGB color space\n",
    "            img = cv2.imread(img_path)\n",
    "            img = cv2.cvtColor(img, cv2.COLOR_BGR2RGB)\n",
    "            \n",
    "            # Resize the image for 'Overview' and 'Montage' folders\n",
    "            if folder_name in ['Overview', 'Montage']:\n",
    "                img = cv2.resize(img, (100, 100))\n",
    "\n",
    "            # For 'Pixel' folder, extract RGB values and store them in the metadata dataframe\n",
    "            if folder_name == 'Pixel':\n",
    "                center_rgb = img[0, 0] / 255\n",
    "                metaData_sample.loc[metaData_sample['Sample Number'] == metaData[\"Sample Number\"][i], ['R', 'G', 'B']] = center_rgb\n",
    "            else:\n",
    "                # Reshape the image into a 2D array for scaling\n",
    "                img_2d = img.reshape(-1, img.shape[-1])\n",
    "                \n",
    "                # Scale the image using StandardScaler\n",
    "                img_scaled = scaler.fit_transform(img_2d)\n",
    "                \n",
    "                # Reshape the scaled image back to its original shape\n",
    "                img = img_scaled.reshape(img.shape)\n",
    "                \n",
    "                # Append the processed image to the corresponding image_arrays entry\n",
    "                image_arrays[folder_name.lower() + '_images'].append(img)\n"
   ]
  },
  {
   "cell_type": "code",
   "execution_count": 10,
   "id": "8e4a9606",
   "metadata": {},
   "outputs": [
    {
     "name": "stderr",
     "output_type": "stream",
     "text": [
      "Clipping input data to the valid range for imshow with RGB data ([0..1] for floats or [0..255] for integers).\n"
     ]
    },
    {
     "name": "stdout",
     "output_type": "stream",
     "text": [
      "Number of local images: 48000\n",
      "Number of overview images: 48000\n",
      "Number of window images: 48000\n",
      "Local image shape: (7, 7, 3)\n"
     ]
    },
    {
     "data": {
      "image/png": "[encoded data removed]",
      "text/plain": [
       "<Figure size 640x480 with 1 Axes>"
      ]
     },
     "metadata": {},
     "output_type": "display_data"
    },
    {
     "name": "stderr",
     "output_type": "stream",
     "text": [
      "Clipping input data to the valid range for imshow with RGB data ([0..1] for floats or [0..255] for integers).\n"
     ]
    },
    {
     "name": "stdout",
     "output_type": "stream",
     "text": [
      "Overview image shape: (100, 100, 3)\n"
     ]
    },
    {
     "data": {
      "image/png": "[encoded data removed]",
      "text/plain": [
       "<Figure size 640x480 with 1 Axes>"
      ]
     },
     "metadata": {},
     "output_type": "display_data"
    },
    {
     "name": "stderr",
     "output_type": "stream",
     "text": [
      "Clipping input data to the valid range for imshow with RGB data ([0..1] for floats or [0..255] for integers).\n"
     ]
    },
    {
     "name": "stdout",
     "output_type": "stream",
     "text": [
      "Window image shape: (31, 31, 3)\n"
     ]
    },
    {
     "data": {
      "image/png": "[encoded data removed]",
      "text/plain": [
       "<Figure size 640x480 with 1 Axes>"
      ]
     },
     "metadata": {},
     "output_type": "display_data"
    }
   ],
   "source": [
    "# Check the number of images loaded in each folder\n",
    "folder_names = ['Local', 'Overview', 'Window']\n",
    "for folder_name in folder_names:\n",
    "    print(f\"Number of {folder_name.lower()} images: {len(image_arrays[folder_name.lower() + '_images'])}\")\n",
    "\n",
    "# Display a random image from each folder\n",
    "for folder_name in folder_names:\n",
    "    random_index = np.random.randint(len(image_arrays[folder_name.lower() + '_images']))\n",
    "    img = image_arrays[folder_name.lower() + '_images'][random_index]\n",
    "    print(f\"{folder_name} image shape: {img.shape}\")\n",
    "    plt.imshow(img)\n",
    "    plt.title(f\"{folder_name} image\")\n",
    "    plt.show()\n"
   ]
  },
  {
   "cell_type": "code",
   "execution_count": 11,
   "id": "97df59f3",
   "metadata": {},
   "outputs": [],
   "source": [
    "# Categorical columns of the data frame, ordered by the number of occurences of each class\n",
    "categorical_columns = ['HerbariumSheet', 'Plant', 'Inflorescence', 'External', 'Text', 'FlowerFruit', \n",
    "                       'Vegetative', 'Typed', 'Leaf', 'Border', 'DataLabel', 'BorderDifferentComponents', \n",
    "                       'ColorBarRuler', 'DeterminationSlip', 'Stem', 'Lamina', 'Background', 'Barcode', \n",
    "                       'ColorBoxMatrix', 'InstitutionalInsigniaIcon', 'Handwritten', 'Envelope', \n",
    "                       'AccessionInformation', 'BarsDemarcationLines', 'Damage', 'TapeString', 'Glue', \n",
    "                       'Petiole', 'Tendril', 'BorderSameComponents', 'HerbariumSheetMargin', 'Other']\n",
    "\n",
    "# Specify the number of classes that you want the model to consider and extract them to a list\n",
    "num_classes = 16 \n",
    "top_classes = categorical_columns[:num_classes]\n",
    "\n",
    "# Extract the numerical data from the specified columns in the metaData_sample DataFrame\n",
    "mlp_input = metaData_sample[['X Scaled', 'Y Scaled', 'Attribute Number', 'R', 'G', 'B']].values\n",
    "\n",
    "# Convert the list of 'local_images' to a NumPy array\n",
    "local_images = np.array(image_arrays['local_images'])\n",
    "\n",
    "# Convert the list of 'overview_images' to a NumPy array\n",
    "overview_images = np.array(image_arrays['overview_images'])\n",
    "\n",
    "# Convert the list of 'window_images' to a NumPy array\n",
    "window_images = np.array(image_arrays['window_images'])"
   ]
  },
  {
   "cell_type": "code",
   "execution_count": 12,
   "id": "237304b7",
   "metadata": {},
   "outputs": [],
   "source": [
    "# Extract the target values (y) from the metaData_sample DataFrame\n",
    "y = metaData_sample[top_classes].values\n",
    "\n",
    "# Set the split ratio for training and validation sets\n",
    "split_ratio = 0.8\n",
    "\n",
    "# Split the data into training and validation sets using the train_test_split function\n",
    "(\n",
    "    local_train, local_val, \n",
    "    overview_train, overview_val, \n",
    "    window_train, window_val, \n",
    "    mlp_train, mlp_val, \n",
    "    y_train, y_val\n",
    ") = train_test_split(\n",
    "    local_images, overview_images, window_images, mlp_input, y,\n",
    "    train_size=split_ratio, random_state=42\n",
    ")\n"
   ]
  },
  {
   "cell_type": "code",
   "execution_count": 13,
   "id": "1bd75726",
   "metadata": {},
   "outputs": [],
   "source": [
    "# Define the window branch of the CNN\n",
    "def create_window_branch(input_shape):\n",
    "    input_layer = Input(shape=input_shape, name=\"window_input\")\n",
    "    x = Conv2D(32, kernel_size=(3, 3), kernel_initializer=GlorotNormal(), activation='relu', name=\"window_conv1\")(input_layer)\n",
    "    x = BatchNormalization()(x)\n",
    "    x = MaxPooling2D(pool_size=(4, 4), name=\"window_maxpool1\")(x)\n",
    "    x = Dropout(0.25)(x)\n",
    "    x = Conv2D(64, kernel_size=(3, 3), kernel_initializer=GlorotNormal(), activation='relu', name=\"window_conv2\")(x)\n",
    "    x = BatchNormalization()(x)\n",
    "    x = MaxPooling2D(pool_size=(4, 4), name=\"window_maxpool2\")(x)\n",
    "    x = Dropout(0.25)(x)\n",
    "    x = Flatten(name=\"window_flatten\")(x)\n",
    "    return input_layer, x\n",
    "\n",
    "# Define the overview branch of the CNN\n",
    "def create_overview_branch(input_shape):\n",
    "    input_layer = Input(shape=input_shape, name=\"overview_input\")\n",
    "    x = Conv2D(32, kernel_size=(3, 3), kernel_initializer=GlorotNormal(), activation='relu', name=\"overview_conv1\")(input_layer)\n",
    "    x = BatchNormalization()(x)\n",
    "    x = MaxPooling2D(pool_size=(2, 2), name=\"overview_maxpool1\")(x)\n",
    "    x = Dropout(0.25)(x)\n",
    "    x = Conv2D(64, kernel_size=(2, 2), kernel_initializer=GlorotNormal(), activation='relu', name=\"overview_conv2\")(x)\n",
    "    x = BatchNormalization()(x)\n",
    "    x = MaxPooling2D(pool_size=(2, 2), name=\"overview_maxpool2\")(x)\n",
    "    x = Dropout(0.25)(x)\n",
    "    x = Flatten(name=\"overview_flatten\")(x)\n",
    "    return input_layer, x\n",
    "\n",
    "# Define the local branch of the CNN\n",
    "def create_local_branch(input_shape):\n",
    "    input_layer = Input(shape=input_shape, name=\"local_input\")\n",
    "    x = Conv2D(16, kernel_size=(3, 3), kernel_initializer=GlorotNormal(), activation = 'relu', name = \"local_conv1\")(input_layer)\n",
    "    x = BatchNormalization()(x)\n",
    "    x = MaxPooling2D(pool_size=(2, 2), name=\"local_maxpool1\")(x)\n",
    "    x = Dropout(0.25)(x)\n",
    "    x = Flatten(name=\"local_flatten\")(x)\n",
    "    return input_layer, x\n",
    "\n",
    "# Define the MLP for categorical data\n",
    "def create_mlp_branch(input_shape, name):\n",
    "    input_layer = Input(shape=input_shape, name=f\"{name}_input\")\n",
    "    x = Dense(128, activation='relu', name=f\"{name}_dense1\")(input_layer)\n",
    "    x = Dropout(0.25)(x)\n",
    "    x = Dense(64, activation='relu', name=f\"{name}_dense2\")(x)\n",
    "    return input_layer, x\n"
   ]
  },
  {
   "cell_type": "code",
   "execution_count": null,
   "id": "453b7d51",
   "metadata": {},
   "outputs": [],
   "source": []
  },
  {
   "cell_type": "code",
   "execution_count": null,
   "id": "7d4f61f0",
   "metadata": {},
   "outputs": [],
   "source": []
  },
  {
   "cell_type": "code",
   "execution_count": null,
   "id": "09a0bd52",
   "metadata": {},
   "outputs": [],
   "source": []
  },
  {
   "cell_type": "code",
   "execution_count": null,
   "id": "ebd1a98a",
   "metadata": {},
   "outputs": [],
   "source": []
  },
  {
   "cell_type": "code",
   "execution_count": 19,
   "id": "8860e0ac",
   "metadata": {},
   "outputs": [
    {
     "name": "stdout",
     "output_type": "stream",
     "text": [
      "Model: \"model_3\"\n",
      "__________________________________________________________________________________________________\n",
      " Layer (type)                   Output Shape         Param #     Connected to                     \n",
      "==================================================================================================\n",
      " overview_input (InputLayer)    [(None, 100, 100, 3  0           []                               \n",
      "                                )]                                                                \n",
      "                                                                                                  \n",
      " window_input (InputLayer)      [(None, 31, 31, 3)]  0           []                               \n",
      "                                                                                                  \n",
      " overview_conv1 (Conv2D)        (None, 98, 98, 32)   896         ['overview_input[0][0]']         \n",
      "                                                                                                  \n",
      " window_conv1 (Conv2D)          (None, 29, 29, 32)   896         ['window_input[0][0]']           \n",
      "                                                                                                  \n",
      " batch_normalization_16 (BatchN  (None, 98, 98, 32)  128         ['overview_conv1[0][0]']         \n",
      " ormalization)                                                                                    \n",
      "                                                                                                  \n",
      " batch_normalization_18 (BatchN  (None, 29, 29, 32)  128         ['window_conv1[0][0]']           \n",
      " ormalization)                                                                                    \n",
      "                                                                                                  \n",
      " overview_maxpool1 (MaxPooling2  (None, 49, 49, 32)  0           ['batch_normalization_16[0][0]'] \n",
      " D)                                                                                               \n",
      "                                                                                                  \n",
      " window_maxpool1 (MaxPooling2D)  (None, 7, 7, 32)    0           ['batch_normalization_18[0][0]'] \n",
      "                                                                                                  \n",
      " local_input (InputLayer)       [(None, 7, 7, 3)]    0           []                               \n",
      "                                                                                                  \n",
      " dropout_23 (Dropout)           (None, 49, 49, 32)   0           ['overview_maxpool1[0][0]']      \n",
      "                                                                                                  \n",
      " dropout_25 (Dropout)           (None, 7, 7, 32)     0           ['window_maxpool1[0][0]']        \n",
      "                                                                                                  \n",
      " local_conv1 (Conv2D)           (None, 5, 5, 16)     448         ['local_input[0][0]']            \n",
      "                                                                                                  \n",
      " overview_conv2 (Conv2D)        (None, 48, 48, 64)   8256        ['dropout_23[0][0]']             \n",
      "                                                                                                  \n",
      " window_conv2 (Conv2D)          (None, 5, 5, 64)     18496       ['dropout_25[0][0]']             \n",
      "                                                                                                  \n",
      " batch_normalization_15 (BatchN  (None, 5, 5, 16)    64          ['local_conv1[0][0]']            \n",
      " ormalization)                                                                                    \n",
      "                                                                                                  \n",
      " batch_normalization_17 (BatchN  (None, 48, 48, 64)  256         ['overview_conv2[0][0]']         \n",
      " ormalization)                                                                                    \n",
      "                                                                                                  \n",
      " batch_normalization_19 (BatchN  (None, 5, 5, 64)    256         ['window_conv2[0][0]']           \n",
      " ormalization)                                                                                    \n",
      "                                                                                                  \n",
      " MLP_input (InputLayer)         [(None, 6)]          0           []                               \n",
      "                                                                                                  \n",
      " local_maxpool1 (MaxPooling2D)  (None, 2, 2, 16)     0           ['batch_normalization_15[0][0]'] \n",
      "                                                                                                  \n",
      " overview_maxpool2 (MaxPooling2  (None, 24, 24, 64)  0           ['batch_normalization_17[0][0]'] \n",
      " D)                                                                                               \n",
      "                                                                                                  \n",
      " window_maxpool2 (MaxPooling2D)  (None, 1, 1, 64)    0           ['batch_normalization_19[0][0]'] \n",
      "                                                                                                  \n",
      " MLP_dense1 (Dense)             (None, 128)          896         ['MLP_input[0][0]']              \n",
      "                                                                                                  \n",
      " dropout_22 (Dropout)           (None, 2, 2, 16)     0           ['local_maxpool1[0][0]']         \n",
      "                                                                                                  \n",
      " dropout_24 (Dropout)           (None, 24, 24, 64)   0           ['overview_maxpool2[0][0]']      \n",
      "                                                                                                  \n",
      " dropout_26 (Dropout)           (None, 1, 1, 64)     0           ['window_maxpool2[0][0]']        \n",
      "                                                                                                  \n",
      " dropout_27 (Dropout)           (None, 128)          0           ['MLP_dense1[0][0]']             \n",
      "                                                                                                  \n",
      " local_flatten (Flatten)        (None, 64)           0           ['dropout_22[0][0]']             \n",
      "                                                                                                  \n",
      " overview_flatten (Flatten)     (None, 36864)        0           ['dropout_24[0][0]']             \n",
      "                                                                                                  \n",
      " window_flatten (Flatten)       (None, 64)           0           ['dropout_26[0][0]']             \n",
      "                                                                                                  \n",
      " MLP_dense2 (Dense)             (None, 64)           8256        ['dropout_27[0][0]']             \n",
      "                                                                                                  \n",
      " concatenate_3 (Concatenate)    (None, 37056)        0           ['local_flatten[0][0]',          \n",
      "                                                                  'overview_flatten[0][0]',       \n",
      "                                                                  'window_flatten[0][0]',         \n",
      "                                                                  'MLP_dense2[0][0]']             \n",
      "                                                                                                  \n",
      " dense_7 (Dense)                (None, 128)          4743296     ['concatenate_3[0][0]']          \n",
      "                                                                                                  \n",
      " dropout_28 (Dropout)           (None, 128)          0           ['dense_7[0][0]']                \n",
      "                                                                                                  \n",
      " dense_8 (Dense)                (None, 64)           8256        ['dropout_28[0][0]']             \n",
      "                                                                                                  \n",
      " dropout_29 (Dropout)           (None, 64)           0           ['dense_8[0][0]']                \n"
     ]
    },
    {
     "name": "stdout",
     "output_type": "stream",
     "text": [
      "                                                                                                  \n",
      " dense_9 (Dense)                (None, 32)           2080        ['dropout_29[0][0]']             \n",
      "                                                                                                  \n",
      " dropout_30 (Dropout)           (None, 32)           0           ['dense_9[0][0]']                \n",
      "                                                                                                  \n",
      " dense_10 (Dense)               (None, 32)           1056        ['dropout_30[0][0]']             \n",
      "                                                                                                  \n",
      " categorical_output (Dense)     (None, 16)           528         ['dense_10[0][0]']               \n",
      "                                                                                                  \n",
      "==================================================================================================\n",
      "Total params: 4,794,192\n",
      "Trainable params: 4,793,776\n",
      "Non-trainable params: 416\n",
      "__________________________________________________________________________________________________\n"
     ]
    }
   ],
   "source": [
    "# Create CNN branches for each image type\n",
    "local_input, local_branch = create_local_branch(input_shape=(7, 7, 3))\n",
    "overview_input, overview_branch = create_overview_branch(input_shape=(100, 100, 3))\n",
    "window_input, window_branch = create_window_branch(input_shape=(31, 31, 3))\n",
    "\n",
    "# Create MLP branch \n",
    "categorical_input, categorical_branch = create_mlp_branch(input_shape=(6,), name='MLP')\n",
    "\n",
    "# Concatenate the outputs of each branch\n",
    "concatenated = Concatenate()([local_branch, overview_branch, window_branch, categorical_branch])\n",
    "\n",
    "# Add a fully connected layer\n",
    "fc = Dense(128, activation='relu')(concatenated)\n",
    "fc = Dropout(0.25)(fc) \n",
    "fc = Dense(64, activation='relu')(fc)\n",
    "fc = Dropout(0.25)(fc) \n",
    "fc = Dense(32, activation='relu')(fc)\n",
    "fc = Dropout(0.25)(fc) \n",
    "fc = Dense(32, activation='relu')(fc)\n",
    "categorical_output = Dense(num_classes, activation='sigmoid', name='categorical_output')(fc)\n",
    "\n",
    "optimizer = Adam(learning_rate=0.001, beta_1=0.9, beta_2=0.999, epsilon=1e-07, decay=0.0, amsgrad=False)\n",
    "\n",
    "# Create and compile the model\n",
    "model = Model(inputs=[local_input, overview_input, window_input, categorical_input], outputs=[categorical_output])\n",
    "model.compile(optimizer = optimizer, loss = 'binary_crossentropy', metrics = ['categorical_accuracy'])\n",
    "\n",
    "# Display the model summary\n",
    "model.summary()"
   ]
  },
  {
   "cell_type": "code",
   "execution_count": 20,
   "id": "db0fa5fe",
   "metadata": {},
   "outputs": [
    {
     "name": "stdout",
     "output_type": "stream",
     "text": [
      "Epoch 1/40\n",
      "300/300 [==============================] - 206s 679ms/step - loss: 0.3496 - categorical_accuracy: 0.8052 - val_loss: 0.8239 - val_categorical_accuracy: 0.8794 - lr: 0.0010\n",
      "Epoch 2/40\n",
      "300/300 [==============================] - 202s 672ms/step - loss: 0.2223 - categorical_accuracy: 0.9539 - val_loss: 0.2452 - val_categorical_accuracy: 0.9392 - lr: 0.0010\n",
      "Epoch 3/40\n",
      "300/300 [==============================] - 190s 634ms/step - loss: 0.1875 - categorical_accuracy: 0.9642 - val_loss: 0.1662 - val_categorical_accuracy: 0.9727 - lr: 0.0010\n",
      "Epoch 4/40\n",
      "300/300 [==============================] - 187s 624ms/step - loss: 0.1636 - categorical_accuracy: 0.9656 - val_loss: 0.1448 - val_categorical_accuracy: 0.9733 - lr: 0.0010\n",
      "Epoch 5/40\n",
      "300/300 [==============================] - 186s 621ms/step - loss: 0.1431 - categorical_accuracy: 0.9667 - val_loss: 0.1271 - val_categorical_accuracy: 0.9661 - lr: 0.0010\n",
      "Epoch 6/40\n",
      "300/300 [==============================] - 187s 622ms/step - loss: 0.1306 - categorical_accuracy: 0.9631 - val_loss: 0.1228 - val_categorical_accuracy: 0.9538 - lr: 0.0010\n",
      "Epoch 7/40\n",
      "300/300 [==============================] - ETA: 0s - loss: 0.1205 - categorical_accuracy: 0.9662\n",
      "Epoch 7: ReduceLROnPlateau reducing learning rate to 0.0005000000237487257.\n",
      "300/300 [==============================] - 185s 618ms/step - loss: 0.1205 - categorical_accuracy: 0.9662 - val_loss: 0.1061 - val_categorical_accuracy: 0.9710 - lr: 0.0010\n",
      "Epoch 8/40\n",
      "300/300 [==============================] - 185s 616ms/step - loss: 0.1063 - categorical_accuracy: 0.9643 - val_loss: 0.0971 - val_categorical_accuracy: 0.9737 - lr: 5.0000e-04\n",
      "Epoch 9/40\n",
      "300/300 [==============================] - 186s 620ms/step - loss: 0.0986 - categorical_accuracy: 0.9645 - val_loss: 0.0975 - val_categorical_accuracy: 0.9676 - lr: 5.0000e-04\n",
      "Epoch 10/40\n",
      "300/300 [==============================] - 355s 1s/step - loss: 0.0943 - categorical_accuracy: 0.9630 - val_loss: 0.0876 - val_categorical_accuracy: 0.9724 - lr: 5.0000e-04\n",
      "Epoch 11/40\n",
      "300/300 [==============================] - ETA: 0s - loss: 0.0908 - categorical_accuracy: 0.9601\n",
      "Epoch 11: ReduceLROnPlateau reducing learning rate to 0.0002500000118743628.\n",
      "300/300 [==============================] - 185s 618ms/step - loss: 0.0908 - categorical_accuracy: 0.9601 - val_loss: 0.0974 - val_categorical_accuracy: 0.9693 - lr: 5.0000e-04\n",
      "Epoch 12/40\n",
      "300/300 [==============================] - 186s 622ms/step - loss: 0.0850 - categorical_accuracy: 0.9577 - val_loss: 0.0942 - val_categorical_accuracy: 0.9685 - lr: 2.5000e-04\n",
      "Epoch 13/40\n",
      "300/300 [==============================] - 185s 617ms/step - loss: 0.0813 - categorical_accuracy: 0.9588 - val_loss: 0.0920 - val_categorical_accuracy: 0.9695 - lr: 2.5000e-04\n",
      "Epoch 14/40\n",
      "300/300 [==============================] - ETA: 0s - loss: 0.0792 - categorical_accuracy: 0.9591\n",
      "Epoch 14: ReduceLROnPlateau reducing learning rate to 0.0001250000059371814.\n",
      "300/300 [==============================] - 186s 622ms/step - loss: 0.0792 - categorical_accuracy: 0.9591 - val_loss: 0.0925 - val_categorical_accuracy: 0.9664 - lr: 2.5000e-04\n",
      "Epoch 15/40\n",
      "300/300 [==============================] - 187s 624ms/step - loss: 0.0751 - categorical_accuracy: 0.9593 - val_loss: 0.0898 - val_categorical_accuracy: 0.9690 - lr: 1.2500e-04\n",
      "Epoch 16/40\n",
      "300/300 [==============================] - 188s 628ms/step - loss: 0.0735 - categorical_accuracy: 0.9583 - val_loss: 0.0841 - val_categorical_accuracy: 0.9693 - lr: 1.2500e-04\n",
      "Epoch 17/40\n",
      "300/300 [==============================] - ETA: 0s - loss: 0.0720 - categorical_accuracy: 0.9568\n",
      "Epoch 17: ReduceLROnPlateau reducing learning rate to 6.25000029685907e-05.\n",
      "300/300 [==============================] - 186s 619ms/step - loss: 0.0720 - categorical_accuracy: 0.9568 - val_loss: 0.0880 - val_categorical_accuracy: 0.9673 - lr: 1.2500e-04\n",
      "Epoch 18/40\n",
      "300/300 [==============================] - 186s 620ms/step - loss: 0.0708 - categorical_accuracy: 0.9566 - val_loss: 0.0888 - val_categorical_accuracy: 0.9659 - lr: 6.2500e-05\n",
      "Epoch 19/40\n",
      "300/300 [==============================] - 185s 617ms/step - loss: 0.0696 - categorical_accuracy: 0.9534 - val_loss: 0.0867 - val_categorical_accuracy: 0.9671 - lr: 6.2500e-05\n",
      "Epoch 20/40\n",
      "300/300 [==============================] - ETA: 0s - loss: 0.0688 - categorical_accuracy: 0.9517\n",
      "Epoch 20: ReduceLROnPlateau reducing learning rate to 3.125000148429535e-05.\n",
      "300/300 [==============================] - 186s 622ms/step - loss: 0.0688 - categorical_accuracy: 0.9517 - val_loss: 0.0840 - val_categorical_accuracy: 0.9685 - lr: 6.2500e-05\n",
      "Epoch 21/40\n",
      "300/300 [==============================] - 185s 616ms/step - loss: 0.0671 - categorical_accuracy: 0.9534 - val_loss: 0.0869 - val_categorical_accuracy: 0.9675 - lr: 3.1250e-05\n",
      "Epoch 22/40\n",
      "300/300 [==============================] - 185s 618ms/step - loss: 0.0680 - categorical_accuracy: 0.9547 - val_loss: 0.0884 - val_categorical_accuracy: 0.9677 - lr: 3.1250e-05\n",
      "Epoch 23/40\n",
      "300/300 [==============================] - ETA: 0s - loss: 0.0675 - categorical_accuracy: 0.9535\n",
      "Epoch 23: ReduceLROnPlateau reducing learning rate to 1.5625000742147677e-05.\n",
      "300/300 [==============================] - 187s 623ms/step - loss: 0.0675 - categorical_accuracy: 0.9535 - val_loss: 0.0881 - val_categorical_accuracy: 0.9677 - lr: 3.1250e-05\n",
      "Epoch 24/40\n",
      "300/300 [==============================] - 185s 617ms/step - loss: 0.0664 - categorical_accuracy: 0.9529 - val_loss: 0.0904 - val_categorical_accuracy: 0.9668 - lr: 1.5625e-05\n",
      "Epoch 25/40\n",
      "300/300 [==============================] - 191s 635ms/step - loss: 0.0667 - categorical_accuracy: 0.9539 - val_loss: 0.0878 - val_categorical_accuracy: 0.9673 - lr: 1.5625e-05\n",
      "Epoch 26/40\n",
      "300/300 [==============================] - ETA: 0s - loss: 0.0663 - categorical_accuracy: 0.9524\n",
      "Epoch 26: ReduceLROnPlateau reducing learning rate to 7.812500371073838e-06.\n",
      "300/300 [==============================] - 186s 619ms/step - loss: 0.0663 - categorical_accuracy: 0.9524 - val_loss: 0.0891 - val_categorical_accuracy: 0.9671 - lr: 1.5625e-05\n",
      "Epoch 27/40\n",
      "300/300 [==============================] - 186s 622ms/step - loss: 0.0659 - categorical_accuracy: 0.9528 - val_loss: 0.0883 - val_categorical_accuracy: 0.9673 - lr: 7.8125e-06\n",
      "Epoch 28/40\n",
      "300/300 [==============================] - 332s 1s/step - loss: 0.0650 - categorical_accuracy: 0.9525 - val_loss: 0.0879 - val_categorical_accuracy: 0.9674 - lr: 7.8125e-06\n",
      "Epoch 29/40\n",
      "300/300 [==============================] - ETA: 0s - loss: 0.0647 - categorical_accuracy: 0.9545\n",
      "Epoch 29: ReduceLROnPlateau reducing learning rate to 3.906250185536919e-06.\n",
      "300/300 [==============================] - 403s 1s/step - loss: 0.0647 - categorical_accuracy: 0.9545 - val_loss: 0.0886 - val_categorical_accuracy: 0.9672 - lr: 7.8125e-06\n",
      "Epoch 30/40\n",
      "300/300 [==============================] - 186s 618ms/step - loss: 0.0654 - categorical_accuracy: 0.9537 - val_loss: 0.0886 - val_categorical_accuracy: 0.9674 - lr: 3.9063e-06\n",
      "Epoch 31/40\n",
      "300/300 [==============================] - 186s 621ms/step - loss: 0.0655 - categorical_accuracy: 0.9550 - val_loss: 0.0882 - val_categorical_accuracy: 0.9673 - lr: 3.9063e-06\n",
      "Epoch 32/40\n",
      "300/300 [==============================] - ETA: 0s - loss: 0.0652 - categorical_accuracy: 0.9524\n",
      "Epoch 32: ReduceLROnPlateau reducing learning rate to 1.9531250927684596e-06.\n",
      "300/300 [==============================] - 185s 618ms/step - loss: 0.0652 - categorical_accuracy: 0.9524 - val_loss: 0.0884 - val_categorical_accuracy: 0.9672 - lr: 3.9063e-06\n",
      "Epoch 33/40\n",
      "300/300 [==============================] - 187s 623ms/step - loss: 0.0659 - categorical_accuracy: 0.9534 - val_loss: 0.0883 - val_categorical_accuracy: 0.9673 - lr: 1.9531e-06\n",
      "Epoch 34/40\n",
      "300/300 [==============================] - 186s 619ms/step - loss: 0.0647 - categorical_accuracy: 0.9530 - val_loss: 0.0886 - val_categorical_accuracy: 0.9671 - lr: 1.9531e-06\n",
      "Epoch 35/40\n",
      "300/300 [==============================] - ETA: 0s - loss: 0.0658 - categorical_accuracy: 0.9516\n",
      "Epoch 35: ReduceLROnPlateau reducing learning rate to 9.765625463842298e-07.\n",
      "300/300 [==============================] - 187s 622ms/step - loss: 0.0658 - categorical_accuracy: 0.9516 - val_loss: 0.0886 - val_categorical_accuracy: 0.9673 - lr: 1.9531e-06\n"
     ]
    },
    {
     "name": "stdout",
     "output_type": "stream",
     "text": [
      "Epoch 36/40\n",
      "300/300 [==============================] - 185s 617ms/step - loss: 0.0650 - categorical_accuracy: 0.9533 - val_loss: 0.0885 - val_categorical_accuracy: 0.9673 - lr: 9.7656e-07\n",
      "Epoch 37/40\n",
      "300/300 [==============================] - 187s 623ms/step - loss: 0.0657 - categorical_accuracy: 0.9527 - val_loss: 0.0885 - val_categorical_accuracy: 0.9676 - lr: 9.7656e-07\n",
      "Epoch 38/40\n",
      "300/300 [==============================] - ETA: 0s - loss: 0.0654 - categorical_accuracy: 0.9535\n",
      "Epoch 38: ReduceLROnPlateau reducing learning rate to 4.882812731921149e-07.\n",
      "300/300 [==============================] - 185s 617ms/step - loss: 0.0654 - categorical_accuracy: 0.9535 - val_loss: 0.0882 - val_categorical_accuracy: 0.9675 - lr: 9.7656e-07\n",
      "Epoch 39/40\n",
      "300/300 [==============================] - 186s 620ms/step - loss: 0.0650 - categorical_accuracy: 0.9533 - val_loss: 0.0884 - val_categorical_accuracy: 0.9673 - lr: 4.8828e-07\n",
      "Epoch 40/40\n",
      "300/300 [==============================] - 186s 620ms/step - loss: 0.0653 - categorical_accuracy: 0.9536 - val_loss: 0.0883 - val_categorical_accuracy: 0.9673 - lr: 4.8828e-07\n"
     ]
    },
    {
     "name": "stderr",
     "output_type": "stream",
     "text": [
      "WARNING:absl:Function `_wrapped_model` contains input name(s) MLP_input with unsupported characters which will be renamed to mlp_input in the SavedModel.\n",
      "WARNING:absl:Found untraced functions such as _jit_compiled_convolution_op, _jit_compiled_convolution_op, _jit_compiled_convolution_op, _jit_compiled_convolution_op, _jit_compiled_convolution_op while saving (showing 5 of 5). These functions will not be directly callable after loading.\n"
     ]
    },
    {
     "name": "stdout",
     "output_type": "stream",
     "text": [
      "INFO:tensorflow:Assets written to: /Users/Jay/InterdisciplinaryDataAnalysisClass_FinalDataSet/assets\n"
     ]
    },
    {
     "name": "stderr",
     "output_type": "stream",
     "text": [
      "INFO:tensorflow:Assets written to: /Users/Jay/InterdisciplinaryDataAnalysisClass_FinalDataSet/assets\n"
     ]
    }
   ],
   "source": [
    "# Converges in ~3 epochs\n",
    "\n",
    "# Define the ModelCheckpoint callback\n",
    "checkpoint = ModelCheckpoint('best_modelmini.h5', save_best_only=True, monitor='val_categorical_accuracy', mode='max')\n",
    "lr_scheduler = ReduceLROnPlateau(monitor='val_categorical_accuracy', factor=0.5, patience=3, min_lr=1e-10, verbose=1)\n",
    "\n",
    "# Train the model\n",
    "batch_size = 128\n",
    "epochs = 10\n",
    "history = model.fit(\n",
    "    [local_train, overview_train, window_train, mlp_train],\n",
    "    y_train,\n",
    "    batch_size=batch_size,\n",
    "    epochs=epochs,\n",
    "    validation_data=([local_val, overview_val, window_val, mlp_val], y_val),\n",
    "    callbacks=[lr_scheduler, checkpoint]\n",
    ")\n",
    "\n",
    "# Save the model\n",
    "model.save('/Users/Jay/InterdisciplinaryDataAnalysisClass_FinalDataSet/')"
   ]
  },
  {
   "cell_type": "code",
   "execution_count": 29,
   "id": "b2db9534",
   "metadata": {},
   "outputs": [
    {
     "ename": "ValueError",
     "evalue": "cannot reshape array of size 48 into shape (1,7,7,3)",
     "output_type": "error",
     "traceback": [
      "\u001b[0;31m---------------------------------------------------------------------------\u001b[0m",
      "\u001b[0;31mValueError\u001b[0m                                Traceback (most recent call last)",
      "Cell \u001b[0;32mIn[29], line 38\u001b[0m\n\u001b[1;32m     34\u001b[0m window_data \u001b[38;5;241m=\u001b[39m img[\u001b[38;5;28mmax\u001b[39m(\u001b[38;5;241m0\u001b[39m, i\u001b[38;5;241m-\u001b[39m\u001b[38;5;241m15\u001b[39m):\u001b[38;5;28mmin\u001b[39m(i\u001b[38;5;241m+\u001b[39m\u001b[38;5;241m16\u001b[39m, h), \u001b[38;5;28mmax\u001b[39m(\u001b[38;5;241m0\u001b[39m, j\u001b[38;5;241m-\u001b[39m\u001b[38;5;241m15\u001b[39m):\u001b[38;5;28mmin\u001b[39m(j\u001b[38;5;241m+\u001b[39m\u001b[38;5;241m16\u001b[39m, w)]\n\u001b[1;32m     37\u001b[0m \u001b[38;5;66;03m# Reshape the data for the model\u001b[39;00m\n\u001b[0;32m---> 38\u001b[0m local_data \u001b[38;5;241m=\u001b[39m \u001b[43mnp\u001b[49m\u001b[38;5;241;43m.\u001b[39;49m\u001b[43mreshape\u001b[49m\u001b[43m(\u001b[49m\u001b[43mlocal_data\u001b[49m\u001b[43m,\u001b[49m\u001b[43m \u001b[49m\u001b[43m(\u001b[49m\u001b[38;5;241;43m1\u001b[39;49m\u001b[43m,\u001b[49m\u001b[43m \u001b[49m\u001b[38;5;241;43m7\u001b[39;49m\u001b[43m,\u001b[49m\u001b[43m \u001b[49m\u001b[38;5;241;43m7\u001b[39;49m\u001b[43m,\u001b[49m\u001b[43m \u001b[49m\u001b[38;5;241;43m3\u001b[39;49m\u001b[43m)\u001b[49m\u001b[43m)\u001b[49m\n\u001b[1;32m     39\u001b[0m overview_data \u001b[38;5;241m=\u001b[39m np\u001b[38;5;241m.\u001b[39mreshape(overview_data, (\u001b[38;5;241m1\u001b[39m, \u001b[38;5;241m100\u001b[39m, \u001b[38;5;241m100\u001b[39m, \u001b[38;5;241m3\u001b[39m))\n\u001b[1;32m     40\u001b[0m window_data \u001b[38;5;241m=\u001b[39m np\u001b[38;5;241m.\u001b[39mreshape(window_data, (\u001b[38;5;241m1\u001b[39m, \u001b[38;5;241m31\u001b[39m, \u001b[38;5;241m31\u001b[39m, \u001b[38;5;241m3\u001b[39m))\n",
      "File \u001b[0;32m<__array_function__ internals>:5\u001b[0m, in \u001b[0;36mreshape\u001b[0;34m(*args, **kwargs)\u001b[0m\n",
      "File \u001b[0;32m/opt/anaconda3/lib/python3.9/site-packages/numpy/core/fromnumeric.py:298\u001b[0m, in \u001b[0;36mreshape\u001b[0;34m(a, newshape, order)\u001b[0m\n\u001b[1;32m    198\u001b[0m \u001b[38;5;129m@array_function_dispatch\u001b[39m(_reshape_dispatcher)\n\u001b[1;32m    199\u001b[0m \u001b[38;5;28;01mdef\u001b[39;00m \u001b[38;5;21mreshape\u001b[39m(a, newshape, order\u001b[38;5;241m=\u001b[39m\u001b[38;5;124m'\u001b[39m\u001b[38;5;124mC\u001b[39m\u001b[38;5;124m'\u001b[39m):\n\u001b[1;32m    200\u001b[0m     \u001b[38;5;124;03m\"\"\"\u001b[39;00m\n\u001b[1;32m    201\u001b[0m \u001b[38;5;124;03m    Gives a new shape to an array without changing its data.\u001b[39;00m\n\u001b[1;32m    202\u001b[0m \n\u001b[0;32m   (...)\u001b[0m\n\u001b[1;32m    296\u001b[0m \u001b[38;5;124;03m           [5, 6]])\u001b[39;00m\n\u001b[1;32m    297\u001b[0m \u001b[38;5;124;03m    \"\"\"\u001b[39;00m\n\u001b[0;32m--> 298\u001b[0m     \u001b[38;5;28;01mreturn\u001b[39;00m \u001b[43m_wrapfunc\u001b[49m\u001b[43m(\u001b[49m\u001b[43ma\u001b[49m\u001b[43m,\u001b[49m\u001b[43m \u001b[49m\u001b[38;5;124;43m'\u001b[39;49m\u001b[38;5;124;43mreshape\u001b[39;49m\u001b[38;5;124;43m'\u001b[39;49m\u001b[43m,\u001b[49m\u001b[43m \u001b[49m\u001b[43mnewshape\u001b[49m\u001b[43m,\u001b[49m\u001b[43m \u001b[49m\u001b[43morder\u001b[49m\u001b[38;5;241;43m=\u001b[39;49m\u001b[43morder\u001b[49m\u001b[43m)\u001b[49m\n",
      "File \u001b[0;32m/opt/anaconda3/lib/python3.9/site-packages/numpy/core/fromnumeric.py:57\u001b[0m, in \u001b[0;36m_wrapfunc\u001b[0;34m(obj, method, *args, **kwds)\u001b[0m\n\u001b[1;32m     54\u001b[0m     \u001b[38;5;28;01mreturn\u001b[39;00m _wrapit(obj, method, \u001b[38;5;241m*\u001b[39margs, \u001b[38;5;241m*\u001b[39m\u001b[38;5;241m*\u001b[39mkwds)\n\u001b[1;32m     56\u001b[0m \u001b[38;5;28;01mtry\u001b[39;00m:\n\u001b[0;32m---> 57\u001b[0m     \u001b[38;5;28;01mreturn\u001b[39;00m \u001b[43mbound\u001b[49m\u001b[43m(\u001b[49m\u001b[38;5;241;43m*\u001b[39;49m\u001b[43margs\u001b[49m\u001b[43m,\u001b[49m\u001b[43m \u001b[49m\u001b[38;5;241;43m*\u001b[39;49m\u001b[38;5;241;43m*\u001b[39;49m\u001b[43mkwds\u001b[49m\u001b[43m)\u001b[49m\n\u001b[1;32m     58\u001b[0m \u001b[38;5;28;01mexcept\u001b[39;00m \u001b[38;5;167;01mTypeError\u001b[39;00m:\n\u001b[1;32m     59\u001b[0m     \u001b[38;5;66;03m# A TypeError occurs if the object does have such a method in its\u001b[39;00m\n\u001b[1;32m     60\u001b[0m     \u001b[38;5;66;03m# class, but its signature is not identical to that of NumPy's. This\u001b[39;00m\n\u001b[0;32m   (...)\u001b[0m\n\u001b[1;32m     64\u001b[0m     \u001b[38;5;66;03m# Call _wrapit from within the except clause to ensure a potential\u001b[39;00m\n\u001b[1;32m     65\u001b[0m     \u001b[38;5;66;03m# exception has a traceback chain.\u001b[39;00m\n\u001b[1;32m     66\u001b[0m     \u001b[38;5;28;01mreturn\u001b[39;00m _wrapit(obj, method, \u001b[38;5;241m*\u001b[39margs, \u001b[38;5;241m*\u001b[39m\u001b[38;5;241m*\u001b[39mkwds)\n",
      "\u001b[0;31mValueError\u001b[0m: cannot reshape array of size 48 into shape (1,7,7,3)"
     ]
    }
   ],
   "source": [
    "# Read in the model\n",
    "#model = keras.models.load_model('/Users/Jay/InterdisciplinaryDataAnalysisClass_FinalDataSet/saved_model.pb')\n",
    "#model = tf.keras.models.load_model('/Users/Jay/InterdisciplinaryDataAnalysisClass_FinalDataSet/saved_model.pb')\n",
    "# Load the new image\n",
    "img = cv2.imread('/Users/Jay/InterdisciplinaryDataAnalysisClass_FinalDataSet/PreSeg Images/Passiflora_amalocarpa_1d81d781-b882-4754-a8f4-502983c5b290.jpg')\n",
    "\n",
    "# Reshape the image into a 2D array for scaling\n",
    "img_2d = img.reshape(-1, img.shape[-1])\n",
    "\n",
    "# Scale the image using StandardScaler\n",
    "img_scaled = scaler.fit_transform(img_2d)\n",
    "img = cv2.resize(img, (700, 700))\n",
    "# Reshape the scaled image back to its original shape\n",
    "#img = img_scaled.reshape(img.shape)\n",
    "# Define the border size\n",
    "border_size = 50\n",
    "\n",
    "# Add padding to the image\n",
    "img = cv2.copyMakeBorder(img, border_size, border_size, border_size, border_size, cv2.BORDER_CONSTANT, value=0)\n",
    "\n",
    "# Get the dimensions of the image\n",
    "h, w, _ = img.shape\n",
    "\n",
    "# Create a blank numpy array to hold the output segmented image\n",
    "output = np.zeros((h, w, num_classes), dtype=np.uint8)\n",
    "\n",
    "# Loop through each pixel in the image\n",
    "for i in range(h):\n",
    "    for j in range(w):\n",
    "        \n",
    "        # Extract the local, overview, window, and categorical data for the pixel\n",
    "        local_data = img[max(0, i-3):min(i+4, h), max(0, j-3):min(j+4, w)]\n",
    "        overview_data = img[max(0, i-50):min(i+51, h), max(0, j-50):min(j+51, w)]\n",
    "        window_data = img[max(0, i-15):min(i+16, h), max(0, j-15):min(j+16, w)]\n",
    "\n",
    "\n",
    "        # Reshape the data for the model\n",
    "        local_data = np.reshape(local_data, (1, 7, 7, 3))\n",
    "        overview_data = np.reshape(overview_data, (1, 100, 100, 3))\n",
    "        window_data = np.reshape(window_data, (1, 31, 31, 3))\n",
    "        categorical_data = np.reshape(categorical_data, (1, 6))\n",
    "\n",
    "        # Predict the class probabilities for the pixel\n",
    "        probabilities = model.predict([local_data, overview_data, window_data, categorical_data])[0]\n",
    "\n",
    "        # Loop through each class and generate a color-coded image\n",
    "        for k in range(16):\n",
    "            # Set the alpha value of the pixel based on the probability of the pixel belonging to this class\n",
    "            alpha = int(probabilities[k]*255)\n",
    "            # Create a solid color image for this class\n",
    "            color_img = np.zeros((h, w, 3), dtype=np.uint8)\n",
    "            color_img[:] = (0, 0, 255) # Replace with your desired color for this class\n",
    "            # Set the alpha value for each pixel in the color image\n",
    "            color_img = cv2.cvtColor(color_img, cv2.COLOR_BGR2BGRA)\n",
    "            color_img[:, :, 3] = alpha\n",
    "            # Add the color image to the output image\n",
    "            output += color_img\n",
    "\n",
    "# Superimpose the output image on top of the original image\n",
    "output = cv2.addWeighted(img, 0.7, output, 0.3, 0)\n",
    "\n",
    "# Save the segmented image\n",
    "cv2.imwrite('segmented_image.jpg', output)\n"
   ]
  },
  {
   "cell_type": "code",
   "execution_count": 28,
   "id": "1f2c47de",
   "metadata": {},
   "outputs": [
    {
     "name": "stdout",
     "output_type": "stream",
     "text": [
      "(4, 4, 3)\n",
      "48\n"
     ]
    }
   ],
   "source": [
    "print(local_data.shape)\n",
    "print(local_data.size)\n"
   ]
  },
  {
   "cell_type": "code",
   "execution_count": null,
   "id": "8ebb6429",
   "metadata": {},
   "outputs": [],
   "source": []
  }
 ],
 "metadata": {
  "kernelspec": {
   "display_name": "Python 3 (ipykernel)",
   "language": "python",
   "name": "python3"
  },
  "language_info": {
   "codemirror_mode": {
    "name": "ipython",
    "version": 3
   },
   "file_extension": ".py",
   "mimetype": "text/x-python",
   "name": "python",
   "nbconvert_exporter": "python",
   "pygments_lexer": "ipython3",
   "version": "3.9.16"
  }
 },
 "nbformat": 4,
 "nbformat_minor": 5
}
